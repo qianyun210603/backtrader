{
 "cells": [
  {
   "cell_type": "code",
   "execution_count": 1,
   "metadata": {},
   "outputs": [],
   "source": [
    "from __future__ import (absolute_import, division, print_function, unicode_literals)\n",
    "import backtrader as bt\n",
    "import pandas as pd\n",
    "import os\n",
    "from datetime import datetime\n",
    "from operator import attrgetter"
   ]
  },
  {
   "cell_type": "code",
   "execution_count": 2,
   "metadata": {},
   "outputs": [],
   "source": [
    "data_folder = r\"D:\\Documents\\trading\\converts\\data\""
   ]
  },
  {
   "cell_type": "code",
   "execution_count": 3,
   "metadata": {},
   "outputs": [],
   "source": [
    "info_df = pd.read_csv(os.path.join(data_folder, \"converts_info.csv\"), index_col='code', encoding='utf-8')\n",
    "all_data = {code: pd.read_csv(os.path.join(data_folder, \"{}.csv\".format(code)), parse_dates=[0], index_col=0, encoding='utf-8') for code in info_df.index}"
   ]
  },
  {
   "cell_type": "code",
   "execution_count": 4,
   "metadata": {},
   "outputs": [],
   "source": [
    "# 双低\n",
    "for cdf in all_data.values():\n",
    "    cdf['premium'] = cdf.close_stock / cdf.new_convert_price\n",
    "    cdf['double_low'] = cdf.close  + cdf.premium"
   ]
  },
  {
   "cell_type": "code",
   "execution_count": 5,
   "metadata": {},
   "outputs": [],
   "source": [
    "from backtrader.feeds import PandasData\n",
    "class Addmoredata(PandasData):\n",
    "    lines = ('open', 'high', 'low', 'close', 'volume', 'money', 'double_low')\n",
    "    params = (('open', 4), ('high', 5), ('low', 6), ('close', 7), ('volume', 8), ('money', 9), ('double_low', 20))"
   ]
  },
  {
   "cell_type": "code",
   "execution_count": 6,
   "metadata": {},
   "outputs": [],
   "source": [
    "class ConvertBaseStrategy(bt.Strategy):\n",
    "\n",
    "    def __init__(self, code2index, max_holding=10):\n",
    "        self.code2index = code2index\n",
    "        self.index2code = {v: k for k, v in code2index.items()}\n",
    "        self.max_holding = max_holding\n",
    "        self.candidates = []\n",
    "        self.trade_counter = 0\n",
    "\n",
    "    def notify_trade(self, trade):\n",
    "        idx = self.datas.index(trade.data)\n",
    "        action = 'BOUGHT' if trade.long else 'SELL'\n",
    "        print(f\"{action} {self.index2code[idx]} {abs(trade.size)} @ {trade.price}\")\n",
    "        super(ConvertBaseStrategy, self).notify_trade(trade)\n",
    "\n",
    "    # def notify_order(self, order):\n",
    "    #     idx = self.datas.index(order.data)\n",
    "    #     action = 'BOUGHT' if order.long else 'SELL'\n",
    "    #     print(f\"{action} {self.index2code[idx]} {order.size} @ {order.price}\")\n",
    "\n",
    "    def prenext(self):\n",
    "        self.next()\n",
    "\n",
    "    def next(self):\n",
    "        dt = self.lines.datetime[0]\n",
    "        # print(self.data.num2date(dt))\n",
    "        # print(self.positions)\n",
    "        for idx, data in enumerate(self.datas):\n",
    "            if data.datetime[0] == dt and data.double_low[0] > 150 and data in self.positions \\\n",
    "                    and self.positions[data].size != 0:\n",
    "                idx = self.datas.index(data)\n",
    "                self.trade_counter += 1\n",
    "                order = self.sell(data, size=self.positions[data].size, exectype=bt.Order.Market,\n",
    "                                  tradeid=self.trade_counter)  # self.sell(data, self.positions[data].size,\n",
    "                                                               # exectype=bt.Order.Market)\n",
    "\n",
    "        vacancy = self.max_holding - len(self.positions)\n",
    "        for data in self.candidates:\n",
    "            if vacancy > 0 and data.double_low < 130 and data.close < 110:\n",
    "                self.trade_counter += 1\n",
    "                self.buy(data, size=100, exectype=bt.Order.Market, tradeid=self.trade_counter)\n",
    "                vacancy -= 1\n",
    "\n",
    "        self.candidates = sorted([data for data in self.datas if dt == data.datetime[0]], key=attrgetter('double_low'))"
   ]
  },
  {
   "cell_type": "code",
   "execution_count": 7,
   "metadata": {},
   "outputs": [
    {
     "name": "stdout",
     "output_type": "stream",
     "text": [
      "123035 2019-12-09 00:00:00\n",
      "110033 2016-01-19 00:00:00\n",
      "110034 2016-01-29 00:00:00\n",
      "113009 2016-02-04 00:00:00\n",
      "127003 2016-07-01 00:00:00\n",
      "128013 2016-08-23 00:00:00\n",
      "113011 2017-04-05 00:00:00\n",
      "113012 2017-04-13 00:00:00\n",
      "128014 2017-05-12 00:00:00\n",
      "127004 2017-06-26 00:00:00\n",
      "128015 2017-06-27 00:00:00\n",
      "113013 2017-07-24 00:00:00\n"
     ]
    }
   ],
   "source": [
    "for idx, (code, df) in enumerate(all_data.items()):\n",
    "    print(code, df.index.min())\n",
    "    if idx > 10:\n",
    "        break"
   ]
  },
  {
   "cell_type": "code",
   "execution_count": 9,
   "metadata": {},
   "outputs": [],
   "source": [
    "# del cerebro\n",
    "cerebro = bt.Cerebro()\n",
    "cerebro.broker.setcash(100000) \n",
    "cerebro.broker.setcommission(commission=0.001) "
   ]
  },
  {
   "cell_type": "code",
   "execution_count": 10,
   "metadata": {},
   "outputs": [],
   "source": [
    "class AddMoredata(PandasData):\n",
    "    lines = ('open', 'high', 'low', 'close', 'volume', 'money', 'double_low')\n",
    "    params = (('open', 4), ('high', 5), ('low', 6), ('close', 7), ('volume', 8), ('money', 9), ('double_low', 20))"
   ]
  },
  {
   "cell_type": "code",
   "execution_count": 11,
   "metadata": {},
   "outputs": [],
   "source": [
    "code2index = {}\n",
    "for idx, (code, df) in enumerate(all_data.items()):\n",
    "    code2index[code] = idx\n",
    "    feed = AddMoredata(dataname=df, fromdate=datetime(2018, 1, 1), todate=datetime(2021, 8, 26),)\n",
    "    cerebro.adddata(feed)"
   ]
  },
  {
   "cell_type": "code",
   "execution_count": 12,
   "metadata": {},
   "outputs": [
    {
     "data": {
      "text/plain": [
       "0"
      ]
     },
     "execution_count": 12,
     "metadata": {},
     "output_type": "execute_result"
    }
   ],
   "source": [
    "cerebro.addstrategy(ConvertBaseStrategy, code2index, 9)\n"
   ]
  },
  {
   "cell_type": "code",
   "execution_count": 13,
   "metadata": {},
   "outputs": [
    {
     "name": "stdout",
     "output_type": "stream",
     "text": [
      "BOUGHT 128013 100 @ 93.14\n",
      "BOUGHT 127003 100 @ 93.17\n",
      "BOUGHT 127004 100 @ 94.05\n",
      "BOUGHT 128023 100 @ 95.6\n",
      "BOUGHT 128018 100 @ 95.713\n",
      "BOUGHT 128015 100 @ 97.1\n",
      "BOUGHT 113502 100 @ 97.03\n",
      "BOUGHT 113012 100 @ 97.34\n",
      "BOUGHT 128025 100 @ 98.86\n",
      "SELL 127004 100 @ 147.0\n",
      "SELL 128025 100 @ 150.0\n"
     ]
    }
   ],
   "source": [
    "# cerebro.addanalyzer(bt.analyzers.PyFolio, _name='pyfolio')\n",
    "result = cerebro.run()"
   ]
  },
  {
   "cell_type": "code",
   "execution_count": 98,
   "metadata": {},
   "outputs": [],
   "source": [
    "portvalue = cerebro.broker.getvalue()"
   ]
  },
  {
   "cell_type": "code",
   "execution_count": 99,
   "metadata": {},
   "outputs": [
    {
     "data": {
      "text/plain": [
       "128603.9997"
      ]
     },
     "execution_count": 99,
     "metadata": {},
     "output_type": "execute_result"
    }
   ],
   "source": [
    "portvalue"
   ]
  },
  {
   "cell_type": "code",
   "execution_count": null,
   "metadata": {},
   "outputs": [],
   "source": [
    "result[0].b"
   ]
  },
  {
   "cell_type": "code",
   "execution_count": 82,
   "metadata": {},
   "outputs": [],
   "source": [
    "strat = result[0]\n",
    "portfolio_stats = strat.analyzers.getbyname('pyfolio')"
   ]
  },
  {
   "cell_type": "code",
   "execution_count": 83,
   "metadata": {},
   "outputs": [],
   "source": [
    "returns, positions, transactions, gross_lev = portfolio_stats.get_pf_items()"
   ]
  },
  {
   "cell_type": "code",
   "execution_count": 85,
   "metadata": {},
   "outputs": [
    {
     "data": {
      "text/html": [
       "<div>\n",
       "<style scoped>\n",
       "    .dataframe tbody tr th:only-of-type {\n",
       "        vertical-align: middle;\n",
       "    }\n",
       "\n",
       "    .dataframe tbody tr th {\n",
       "        vertical-align: top;\n",
       "    }\n",
       "\n",
       "    .dataframe thead th {\n",
       "        text-align: right;\n",
       "    }\n",
       "</style>\n",
       "<table border=\"1\" class=\"dataframe\">\n",
       "  <thead>\n",
       "    <tr style=\"text-align: right;\">\n",
       "      <th></th>\n",
       "      <th>Data373</th>\n",
       "      <th>cash</th>\n",
       "    </tr>\n",
       "    <tr>\n",
       "      <th>Datetime</th>\n",
       "      <th></th>\n",
       "      <th></th>\n",
       "    </tr>\n",
       "  </thead>\n",
       "  <tbody>\n",
       "    <tr>\n",
       "      <th>2018-01-02 00:00:00+00:00</th>\n",
       "      <td>0.0</td>\n",
       "      <td>100000.0</td>\n",
       "    </tr>\n",
       "    <tr>\n",
       "      <th>2018-01-03 00:00:00+00:00</th>\n",
       "      <td>0.0</td>\n",
       "      <td>100000.0</td>\n",
       "    </tr>\n",
       "    <tr>\n",
       "      <th>2018-01-04 00:00:00+00:00</th>\n",
       "      <td>0.0</td>\n",
       "      <td>100000.0</td>\n",
       "    </tr>\n",
       "    <tr>\n",
       "      <th>2018-01-05 00:00:00+00:00</th>\n",
       "      <td>0.0</td>\n",
       "      <td>100000.0</td>\n",
       "    </tr>\n",
       "    <tr>\n",
       "      <th>2018-01-08 00:00:00+00:00</th>\n",
       "      <td>0.0</td>\n",
       "      <td>100000.0</td>\n",
       "    </tr>\n",
       "    <tr>\n",
       "      <th>...</th>\n",
       "      <td>...</td>\n",
       "      <td>...</td>\n",
       "    </tr>\n",
       "    <tr>\n",
       "      <th>2021-08-20 00:00:00+00:00</th>\n",
       "      <td>0.0</td>\n",
       "      <td>100000.0</td>\n",
       "    </tr>\n",
       "    <tr>\n",
       "      <th>2021-08-23 00:00:00+00:00</th>\n",
       "      <td>0.0</td>\n",
       "      <td>100000.0</td>\n",
       "    </tr>\n",
       "    <tr>\n",
       "      <th>2021-08-24 00:00:00+00:00</th>\n",
       "      <td>0.0</td>\n",
       "      <td>100000.0</td>\n",
       "    </tr>\n",
       "    <tr>\n",
       "      <th>2021-08-25 00:00:00+00:00</th>\n",
       "      <td>0.0</td>\n",
       "      <td>100000.0</td>\n",
       "    </tr>\n",
       "    <tr>\n",
       "      <th>2021-08-26 00:00:00+00:00</th>\n",
       "      <td>0.0</td>\n",
       "      <td>100000.0</td>\n",
       "    </tr>\n",
       "  </tbody>\n",
       "</table>\n",
       "<p>890 rows × 2 columns</p>\n",
       "</div>"
      ],
      "text/plain": [
       "                           Data373      cash\n",
       "Datetime                                    \n",
       "2018-01-02 00:00:00+00:00      0.0  100000.0\n",
       "2018-01-03 00:00:00+00:00      0.0  100000.0\n",
       "2018-01-04 00:00:00+00:00      0.0  100000.0\n",
       "2018-01-05 00:00:00+00:00      0.0  100000.0\n",
       "2018-01-08 00:00:00+00:00      0.0  100000.0\n",
       "...                            ...       ...\n",
       "2021-08-20 00:00:00+00:00      0.0  100000.0\n",
       "2021-08-23 00:00:00+00:00      0.0  100000.0\n",
       "2021-08-24 00:00:00+00:00      0.0  100000.0\n",
       "2021-08-25 00:00:00+00:00      0.0  100000.0\n",
       "2021-08-26 00:00:00+00:00      0.0  100000.0\n",
       "\n",
       "[890 rows x 2 columns]"
      ]
     },
     "execution_count": 85,
     "metadata": {},
     "output_type": "execute_result"
    }
   ],
   "source": [
    "positions"
   ]
  }
 ],
 "metadata": {
  "kernelspec": {
   "display_name": "Python 3",
   "language": "python",
   "name": "python3"
  },
  "language_info": {
   "codemirror_mode": {
    "name": "ipython",
    "version": 3
   },
   "file_extension": ".py",
   "mimetype": "text/x-python",
   "name": "python",
   "nbconvert_exporter": "python",
   "pygments_lexer": "ipython3",
   "version": "3.8.5"
  }
 },
 "nbformat": 4,
 "nbformat_minor": 4
}
